{
  "nbformat": 4,
  "nbformat_minor": 0,
  "metadata": {
    "colab": {
      "provenance": []
    },
    "kernelspec": {
      "name": "python3",
      "display_name": "Python 3"
    },
    "language_info": {
      "name": "python"
    }
  },
  "cells": [
    {
      "cell_type": "code",
      "execution_count": null,
      "metadata": {
        "id": "XwS3JKt-U1CE"
      },
      "outputs": [],
      "source": [
        "from google.colab import drive\n",
        "drive.mount('/content/drive', force_remount=True)"
      ]
    },
    {
      "cell_type": "code",
      "source": [
        "train_dir = '/content/drive/MyDrive/train'\n",
        "test_dir = '/content/drive/MyDrive/test'"
      ],
      "metadata": {
        "id": "ZEeho10VFlOp"
      },
      "execution_count": null,
      "outputs": []
    },
    {
      "cell_type": "code",
      "source": [
        "import os\n",
        "print(len(os.listdir('/content/drive/MyDrive/train/cat')))\n",
        "print(len(os.listdir('/content/drive/MyDrive/train/rabbit')))\n",
        "print(len(os.listdir('/content/drive/MyDrive/test/cat')))\n",
        "print(len(os.listdir('/content/drive/MyDrive/test/rabbit')))"
      ],
      "metadata": {
        "colab": {
          "base_uri": "https://localhost:8080/"
        },
        "id": "EJQ0Ru4AG9tY",
        "outputId": "7dc0d36c-76c0-4cc0-bf88-d9949b2255de"
      },
      "execution_count": null,
      "outputs": [
        {
          "output_type": "stream",
          "name": "stdout",
          "text": [
            "800\n",
            "800\n",
            "10\n",
            "5\n"
          ]
        }
      ]
    },
    {
      "cell_type": "code",
      "source": [
        "import tensorflow as tf\n",
        "from tensorflow.keras.preprocessing.image import ImageDataGenerator\n",
        "\n",
        "train_datagen = ImageDataGenerator(\n",
        "    rescale=1./255,\n",
        "    validation_split=0.2\n",
        ")\n",
        "\n",
        "train_data = train_datagen.flow_from_directory(\n",
        "    train_dir,\n",
        "    target_size=(256,256),\n",
        "    batch_size=32,\n",
        "    class_mode='binary',\n",
        "    subset='training'\n",
        ")\n",
        "validation_datagen = ImageDataGenerator(\n",
        "    rescale=1./255,\n",
        "    validation_split=0.2\n",
        ")\n",
        "\n",
        "validation_data = validation_datagen.flow_from_directory(\n",
        "    train_dir,\n",
        "    target_size=(256,256),\n",
        "    batch_size=32,\n",
        "    class_mode='binary',\n",
        "    subset='validation'\n",
        ")"
      ],
      "metadata": {
        "colab": {
          "base_uri": "https://localhost:8080/"
        },
        "id": "pb2Bvn6zJCen",
        "outputId": "56ef17e5-2cc6-4db5-df05-15973ab25b37"
      },
      "execution_count": null,
      "outputs": [
        {
          "output_type": "stream",
          "name": "stdout",
          "text": [
            "Found 1280 images belonging to 2 classes.\n",
            "Found 320 images belonging to 2 classes.\n"
          ]
        }
      ]
    },
    {
      "cell_type": "code",
      "source": [
        "from tensorflow import keras\n",
        "from keras import Sequential\n",
        "from keras.layers import Dense,Conv2D,MaxPooling2D,Flatten,BatchNormalization,UpSampling2D, Dropout"
      ],
      "metadata": {
        "id": "AbmJNRSBKa2Q"
      },
      "execution_count": null,
      "outputs": []
    },
    {
      "cell_type": "code",
      "source": [
        "model = Sequential()\n",
        "\n",
        "model.add(Conv2D(32,kernel_size=(3,3),padding='valid',activation='relu',input_shape=(256,256,3)))\n",
        "model.add(MaxPooling2D(pool_size=(2,2),strides=2,padding='valid'))\n",
        "model.add(Conv2D(64,kernel_size=(3,3),padding='valid',activation='relu'))\n",
        "model.add(MaxPooling2D(pool_size=(2,2),strides=2,padding='valid'))\n",
        "\n",
        "model.add(Conv2D(128,kernel_size=(3,3),padding='valid',activation='relu'))\n",
        "model.add(MaxPooling2D(pool_size=(2,2),strides=2,padding='valid'))\n",
        "model.add(Flatten())\n",
        "\n",
        "model.add(Dense(128,activation='relu'))\n",
        "model.add(Dense(64,activation='relu'))\n",
        "model.add(Dense(1,activation='sigmoid'))"
      ],
      "metadata": {
        "id": "yz7guqEYKhYY"
      },
      "execution_count": null,
      "outputs": []
    },
    {
      "cell_type": "code",
      "source": [
        "from keras.optimizers import Adam\n",
        "model.compile(optimizer=Adam(learning_rate=0.001),loss='binary_crossentropy',metrics=['accuracy'])"
      ],
      "metadata": {
        "id": "b9APr3o2Kspc"
      },
      "execution_count": null,
      "outputs": []
    },
    {
      "cell_type": "code",
      "source": [
        "history = model.fit(train_data, epochs=30, validation_data=validation_data)"
      ],
      "metadata": {
        "colab": {
          "base_uri": "https://localhost:8080/"
        },
        "id": "BFQ2mZAlKyPg",
        "outputId": "daea65c5-36dc-48bb-db09-a95cd81842d7"
      },
      "execution_count": null,
      "outputs": [
        {
          "output_type": "stream",
          "name": "stdout",
          "text": [
            "Epoch 1/30\n",
            "40/40 [==============================] - 218s 5s/step - loss: 0.1969 - accuracy: 0.9258 - val_loss: 0.3561 - val_accuracy: 0.8750\n",
            "Epoch 2/30\n",
            "40/40 [==============================] - 211s 5s/step - loss: 0.0976 - accuracy: 0.9680 - val_loss: 0.3947 - val_accuracy: 0.9031\n",
            "Epoch 3/30\n",
            "40/40 [==============================] - 213s 5s/step - loss: 0.0539 - accuracy: 0.9844 - val_loss: 0.3909 - val_accuracy: 0.8531\n",
            "Epoch 4/30\n",
            "40/40 [==============================] - 210s 5s/step - loss: 0.0605 - accuracy: 0.9867 - val_loss: 0.4900 - val_accuracy: 0.8750\n",
            "Epoch 5/30\n",
            "40/40 [==============================] - 213s 5s/step - loss: 0.0224 - accuracy: 0.9930 - val_loss: 0.5401 - val_accuracy: 0.8906\n",
            "Epoch 6/30\n",
            "40/40 [==============================] - 211s 5s/step - loss: 0.0265 - accuracy: 0.9922 - val_loss: 0.6123 - val_accuracy: 0.8813\n",
            "Epoch 7/30\n",
            "40/40 [==============================] - 212s 5s/step - loss: 0.0111 - accuracy: 0.9961 - val_loss: 0.4665 - val_accuracy: 0.9000\n",
            "Epoch 8/30\n",
            "40/40 [==============================] - 211s 5s/step - loss: 0.0254 - accuracy: 0.9953 - val_loss: 0.6859 - val_accuracy: 0.8469\n",
            "Epoch 9/30\n",
            "40/40 [==============================] - 214s 5s/step - loss: 0.0269 - accuracy: 0.9914 - val_loss: 0.5656 - val_accuracy: 0.9094\n",
            "Epoch 10/30\n",
            "40/40 [==============================] - 210s 5s/step - loss: 0.0067 - accuracy: 0.9984 - val_loss: 0.7581 - val_accuracy: 0.9000\n",
            "Epoch 11/30\n",
            "40/40 [==============================] - 213s 5s/step - loss: 0.0021 - accuracy: 1.0000 - val_loss: 0.6378 - val_accuracy: 0.9406\n",
            "Epoch 12/30\n",
            "40/40 [==============================] - 210s 5s/step - loss: 0.0014 - accuracy: 1.0000 - val_loss: 0.7360 - val_accuracy: 0.8938\n",
            "Epoch 13/30\n",
            "40/40 [==============================] - 212s 5s/step - loss: 3.1166e-04 - accuracy: 1.0000 - val_loss: 0.7709 - val_accuracy: 0.9062\n",
            "Epoch 14/30\n",
            "40/40 [==============================] - 210s 5s/step - loss: 1.3908e-04 - accuracy: 1.0000 - val_loss: 0.8059 - val_accuracy: 0.9062\n",
            "Epoch 15/30\n",
            "40/40 [==============================] - 206s 5s/step - loss: 7.4986e-05 - accuracy: 1.0000 - val_loss: 0.8261 - val_accuracy: 0.9094\n",
            "Epoch 16/30\n",
            "40/40 [==============================] - 206s 5s/step - loss: 5.6183e-05 - accuracy: 1.0000 - val_loss: 0.8467 - val_accuracy: 0.9094\n",
            "Epoch 17/30\n",
            "40/40 [==============================] - 214s 5s/step - loss: 4.3196e-05 - accuracy: 1.0000 - val_loss: 0.8628 - val_accuracy: 0.9094\n",
            "Epoch 18/30\n",
            "40/40 [==============================] - 214s 5s/step - loss: 3.5574e-05 - accuracy: 1.0000 - val_loss: 0.8760 - val_accuracy: 0.9094\n",
            "Epoch 19/30\n",
            "40/40 [==============================] - 225s 6s/step - loss: 2.9758e-05 - accuracy: 1.0000 - val_loss: 0.8864 - val_accuracy: 0.9094\n",
            "Epoch 20/30\n",
            "40/40 [==============================] - 212s 5s/step - loss: 2.5953e-05 - accuracy: 1.0000 - val_loss: 0.8986 - val_accuracy: 0.9094\n",
            "Epoch 21/30\n",
            "40/40 [==============================] - 223s 6s/step - loss: 2.2135e-05 - accuracy: 1.0000 - val_loss: 0.9058 - val_accuracy: 0.9094\n",
            "Epoch 22/30\n",
            "40/40 [==============================] - 213s 5s/step - loss: 1.9678e-05 - accuracy: 1.0000 - val_loss: 0.9115 - val_accuracy: 0.9094\n",
            "Epoch 23/30\n",
            "40/40 [==============================] - 211s 5s/step - loss: 1.7463e-05 - accuracy: 1.0000 - val_loss: 0.9213 - val_accuracy: 0.9094\n",
            "Epoch 24/30\n",
            "40/40 [==============================] - 226s 6s/step - loss: 1.5397e-05 - accuracy: 1.0000 - val_loss: 0.9280 - val_accuracy: 0.9062\n",
            "Epoch 25/30\n",
            "40/40 [==============================] - 213s 5s/step - loss: 1.3647e-05 - accuracy: 1.0000 - val_loss: 0.9340 - val_accuracy: 0.9062\n",
            "Epoch 26/30\n",
            "40/40 [==============================] - 225s 6s/step - loss: 1.2302e-05 - accuracy: 1.0000 - val_loss: 0.9402 - val_accuracy: 0.9062\n",
            "Epoch 27/30\n",
            "40/40 [==============================] - 214s 5s/step - loss: 1.1084e-05 - accuracy: 1.0000 - val_loss: 0.9440 - val_accuracy: 0.9062\n",
            "Epoch 28/30\n",
            "40/40 [==============================] - 213s 5s/step - loss: 1.0029e-05 - accuracy: 1.0000 - val_loss: 0.9483 - val_accuracy: 0.9062\n",
            "Epoch 29/30\n",
            "40/40 [==============================] - 214s 5s/step - loss: 9.1242e-06 - accuracy: 1.0000 - val_loss: 0.9497 - val_accuracy: 0.9062\n",
            "Epoch 30/30\n",
            "40/40 [==============================] - 212s 5s/step - loss: 8.3816e-06 - accuracy: 1.0000 - val_loss: 0.9583 - val_accuracy: 0.9062\n"
          ]
        }
      ]
    },
    {
      "cell_type": "code",
      "source": [
        "import matplotlib.pyplot as plt\n",
        "\n",
        "plt.plot(history.history['accuracy'],color='red',label='train')\n",
        "plt.plot(history.history['val_accuracy'],color='blue',label='validation')\n",
        "plt.legend()\n",
        "plt.show()"
      ],
      "metadata": {
        "colab": {
          "base_uri": "https://localhost:8080/",
          "height": 430
        },
        "id": "f3M4RxxpbtjG",
        "outputId": "85e74d74-6f47-4a42-d526-6b136715d389"
      },
      "execution_count": null,
      "outputs": [
        {
          "output_type": "display_data",
          "data": {
            "text/plain": [
              "<Figure size 640x480 with 1 Axes>"
            ],
            "image/png": "[encoded data removed]"
          },
          "metadata": {}
        }
      ]
    },
    {
      "cell_type": "code",
      "source": [
        "plt.plot(history.history['loss'],color='red',label='train')\n",
        "plt.plot(history.history['val_loss'],color='blue',label='validation')\n",
        "plt.legend()\n",
        "plt.show()"
      ],
      "metadata": {
        "colab": {
          "base_uri": "https://localhost:8080/",
          "height": 433
        },
        "id": "dmRL6XzHcKNu",
        "outputId": "b4ed057e-6dcf-4fe1-e71d-5c3a6c2aceba"
      },
      "execution_count": null,
      "outputs": [
        {
          "output_type": "display_data",
          "data": {
            "text/plain": [
              "<Figure size 640x480 with 1 Axes>"
            ],
            "image/png": "[encoded data removed]"
          },
          "metadata": {}
        }
      ]
    },
    {
      "cell_type": "code",
      "source": [
        "test_datagen = ImageDataGenerator(rescale=1./255)\n",
        "test_data = test_datagen.flow_from_directory(\n",
        "    test_dir,\n",
        "    target_size=(256,256),\n",
        "    batch_size=32,\n",
        "    class_mode='binary'\n",
        ")"
      ],
      "metadata": {
        "colab": {
          "base_uri": "https://localhost:8080/"
        },
        "id": "lA6nVqgochda",
        "outputId": "e2627fcd-5b9c-47c6-f41b-6ebbfd8511c7"
      },
      "execution_count": null,
      "outputs": [
        {
          "output_type": "stream",
          "name": "stdout",
          "text": [
            "Found 15 images belonging to 2 classes.\n"
          ]
        }
      ]
    },
    {
      "cell_type": "code",
      "source": [
        "predictions = model.predict(test_data)\n",
        "print(predictions)"
      ],
      "metadata": {
        "colab": {
          "base_uri": "https://localhost:8080/"
        },
        "id": "Tqq0uUmccskr",
        "outputId": "f5948e29-91be-4e31-9fef-635ce5504383"
      },
      "execution_count": null,
      "outputs": [
        {
          "output_type": "stream",
          "name": "stdout",
          "text": [
            "1/1 [==============================] - 1s 773ms/step\n",
            "[[1.4019625e-05]\n",
            " [9.4805710e-06]\n",
            " [9.9998307e-01]\n",
            " [9.9865496e-01]\n",
            " [1.0000000e+00]\n",
            " [2.0897270e-12]\n",
            " [1.3487167e-09]\n",
            " [9.9999976e-01]\n",
            " [1.7717576e-07]\n",
            " [1.6598254e-14]\n",
            " [9.5088738e-01]\n",
            " [5.5453851e-13]\n",
            " [1.6822644e-13]\n",
            " [9.9516827e-01]\n",
            " [4.9562434e-09]]\n"
          ]
        }
      ]
    },
    {
      "cell_type": "code",
      "source": [
        "len(predictions)"
      ],
      "metadata": {
        "colab": {
          "base_uri": "https://localhost:8080/"
        },
        "id": "QAdgm-ujc1Bh",
        "outputId": "f36be896-de56-4c3f-cfa0-655bc9e96472"
      },
      "execution_count": null,
      "outputs": [
        {
          "output_type": "execute_result",
          "data": {
            "text/plain": [
              "15"
            ]
          },
          "metadata": {},
          "execution_count": 20
        }
      ]
    },
    {
      "cell_type": "code",
      "source": [
        "from sklearn.metrics import confusion_matrix, classification_report\n",
        "true_labels = test_data.classes\n",
        "predicted_labels = (predictions > 0.5).astype(int)\n",
        "cm = confusion_matrix(true_labels, predicted_labels)\n",
        "\n",
        "print(\"Confusion Matrix:\")\n",
        "print(cm)\n",
        "\n",
        "print(\"Classification Report:\")\n",
        "print(classification_report(true_labels, predicted_labels))"
      ],
      "metadata": {
        "colab": {
          "base_uri": "https://localhost:8080/"
        },
        "id": "j1xgaHp9c7Nb",
        "outputId": "6fe6f64b-2bb7-41cd-aeee-3483d6b94b3d"
      },
      "execution_count": null,
      "outputs": [
        {
          "output_type": "stream",
          "name": "stdout",
          "text": [
            "Confusion Matrix:\n",
            "[[6 4]\n",
            " [3 2]]\n",
            "Classification Report:\n",
            "              precision    recall  f1-score   support\n",
            "\n",
            "           0       0.67      0.60      0.63        10\n",
            "           1       0.33      0.40      0.36         5\n",
            "\n",
            "    accuracy                           0.53        15\n",
            "   macro avg       0.50      0.50      0.50        15\n",
            "weighted avg       0.56      0.53      0.54        15\n",
            "\n"
          ]
        }
      ]
    },
    {
      "cell_type": "code",
      "source": [
        "from tensorflow import keras\n",
        "from keras import Sequential\n",
        "from keras.layers import Dense,Conv2D,MaxPooling2D,Flatten\n",
        "\n",
        "resnet_model = Sequential()\n",
        "pretrained_model = tf.keras.applications.ResNet50(include_top = False,\n",
        "                                                input_shape = (256,256,3),\n",
        "                                                pooling = 'max', classes = 2,\n",
        "                                                weights = 'imagenet')\n",
        "for layer in pretrained_model.layers:\n",
        "    layer.trainable = False\n",
        "\n",
        "resnet_model.add(pretrained_model)\n",
        "resnet_model.add(Flatten())\n",
        "resnet_model.add(Dense(512, activation = 'relu'))\n",
        "resnet_model.add(Dense(1, activation = 'sigmoid'))"
      ],
      "metadata": {
        "colab": {
          "base_uri": "https://localhost:8080/"
        },
        "id": "N7icjcWueHfJ",
        "outputId": "9211d693-5f6b-4af3-ca26-85c14d621409"
      },
      "execution_count": null,
      "outputs": [
        {
          "output_type": "stream",
          "name": "stdout",
          "text": [
            "Downloading data from https://storage.googleapis.com/tensorflow/keras-applications/resnet/resnet50_weights_tf_dim_ordering_tf_kernels_notop.h5\n",
            "94765736/94765736 [==============================] - 2s 0us/step\n"
          ]
        }
      ]
    },
    {
      "cell_type": "code",
      "source": [
        "resnet_model.summary()"
      ],
      "metadata": {
        "colab": {
          "base_uri": "https://localhost:8080/"
        },
        "id": "-bS5HMPaeZDR",
        "outputId": "8d306390-2aec-42a5-a5d0-8a8cef61d7ec"
      },
      "execution_count": null,
      "outputs": [
        {
          "output_type": "stream",
          "name": "stdout",
          "text": [
            "Model: \"sequential_1\"\n",
            "_________________________________________________________________\n",
            " Layer (type)                Output Shape              Param #   \n",
            "=================================================================\n",
            " resnet50 (Functional)       (None, 2048)              23587712  \n",
            "                                                                 \n",
            " flatten_1 (Flatten)         (None, 2048)              0         \n",
            "                                                                 \n",
            " dense_3 (Dense)             (None, 512)               1049088   \n",
            "                                                                 \n",
            " dense_4 (Dense)             (None, 1)                 513       \n",
            "                                                                 \n",
            "=================================================================\n",
            "Total params: 24637313 (93.98 MB)\n",
            "Trainable params: 1049601 (4.00 MB)\n",
            "Non-trainable params: 23587712 (89.98 MB)\n",
            "_________________________________________________________________\n"
          ]
        }
      ]
    },
    {
      "cell_type": "code",
      "source": [
        "from keras.optimizers import Adam\n",
        "resnet_model.compile(optimizer=Adam(learning_rate=0.001),loss='binary_crossentropy',metrics=['accuracy'])"
      ],
      "metadata": {
        "id": "lqv_PMF1ebU6"
      },
      "execution_count": null,
      "outputs": []
    },
    {
      "cell_type": "code",
      "source": [
        "history = resnet_model.fit(train_data, epochs=3, validation_data=validation_data)"
      ],
      "metadata": {
        "colab": {
          "base_uri": "https://localhost:8080/"
        },
        "id": "7vWmiOf9eiJ_",
        "outputId": "2b9e053d-22ee-43a2-d183-ae5ebcb4b876"
      },
      "execution_count": null,
      "outputs": [
        {
          "output_type": "stream",
          "name": "stdout",
          "text": [
            "Epoch 1/3\n",
            "40/40 [==============================] - 494s 12s/step - loss: 2.1684 - accuracy: 0.5195 - val_loss: 1.4443 - val_accuracy: 0.5000\n",
            "Epoch 2/3\n",
            "40/40 [==============================] - 414s 10s/step - loss: 0.7783 - accuracy: 0.5914 - val_loss: 0.9848 - val_accuracy: 0.5125\n",
            "Epoch 3/3\n",
            "40/40 [==============================] - 474s 12s/step - loss: 0.6062 - accuracy: 0.6703 - val_loss: 0.8750 - val_accuracy: 0.5156\n"
          ]
        }
      ]
    },
    {
      "cell_type": "code",
      "source": [
        "import matplotlib.pyplot as plt\n",
        "\n",
        "plt.plot(history.history['accuracy'],color='red',label='train')\n",
        "plt.plot(history.history['val_accuracy'],color='blue',label='validation')\n",
        "plt.legend()\n",
        "plt.show()"
      ],
      "metadata": {
        "colab": {
          "base_uri": "https://localhost:8080/",
          "height": 430
        },
        "id": "36WNPVeJkHPx",
        "outputId": "75c8dda5-fa90-4221-9991-58df4d4b5bca"
      },
      "execution_count": null,
      "outputs": [
        {
          "output_type": "display_data",
          "data": {
            "text/plain": [
              "<Figure size 640x480 with 1 Axes>"
            ],
            "image/png": "[encoded data removed]"
          },
          "metadata": {}
        }
      ]
    },
    {
      "cell_type": "code",
      "source": [
        "plt.plot(history.history['loss'],color='red',label='train')\n",
        "plt.plot(history.history['val_loss'],color='blue',label='validation')\n",
        "plt.legend()\n",
        "plt.show()"
      ],
      "metadata": {
        "colab": {
          "base_uri": "https://localhost:8080/",
          "height": 430
        },
        "id": "xY4duRzfkYVX",
        "outputId": "7c0ef66c-1576-465a-e089-10f3ef982473"
      },
      "execution_count": null,
      "outputs": [
        {
          "output_type": "display_data",
          "data": {
            "text/plain": [
              "<Figure size 640x480 with 1 Axes>"
            ],
            "image/png": "[encoded data removed]"
          },
          "metadata": {}
        }
      ]
    },
    {
      "cell_type": "code",
      "source": [
        "test_datagen = ImageDataGenerator(rescale=1./255)\n",
        "test_data = test_datagen.flow_from_directory(\n",
        "    test_dir,\n",
        "    target_size=(256,256),\n",
        "    batch_size=32,\n",
        "    class_mode='binary'\n",
        ")"
      ],
      "metadata": {
        "colab": {
          "base_uri": "https://localhost:8080/"
        },
        "id": "hjgyylWCkbxt",
        "outputId": "a1f46d07-eed6-4bd2-f719-f506b375712d"
      },
      "execution_count": null,
      "outputs": [
        {
          "output_type": "stream",
          "name": "stdout",
          "text": [
            "Found 15 images belonging to 2 classes.\n"
          ]
        }
      ]
    },
    {
      "cell_type": "code",
      "source": [
        "predictions = resnet_model.predict(test_data)\n",
        "print(predictions)"
      ],
      "metadata": {
        "colab": {
          "base_uri": "https://localhost:8080/"
        },
        "id": "l6BqTRbEkkRX",
        "outputId": "baae8fd5-308d-4e1b-87d6-cda8a728f504"
      },
      "execution_count": null,
      "outputs": [
        {
          "output_type": "stream",
          "name": "stdout",
          "text": [
            "1/1 [==============================] - 4s 4s/step\n",
            "[[0.8155925 ]\n",
            " [0.96689284]\n",
            " [0.9072927 ]\n",
            " [0.7374322 ]\n",
            " [0.69144785]\n",
            " [0.7859844 ]\n",
            " [0.936957  ]\n",
            " [0.8081409 ]\n",
            " [0.93518746]\n",
            " [0.99066406]\n",
            " [0.5781075 ]\n",
            " [0.92806166]\n",
            " [0.75653076]\n",
            " [0.85607594]\n",
            " [0.8162706 ]]\n"
          ]
        }
      ]
    },
    {
      "cell_type": "code",
      "source": [
        "len(predictions)"
      ],
      "metadata": {
        "colab": {
          "base_uri": "https://localhost:8080/"
        },
        "id": "SVBbpsPfkq-4",
        "outputId": "dc025ad2-bd00-4041-8050-5544406cfa0d"
      },
      "execution_count": null,
      "outputs": [
        {
          "output_type": "execute_result",
          "data": {
            "text/plain": [
              "15"
            ]
          },
          "metadata": {},
          "execution_count": 30
        }
      ]
    },
    {
      "cell_type": "code",
      "source": [
        "from sklearn.metrics import confusion_matrix, classification_report\n",
        "\n",
        "true_labels = test_data.classes\n",
        "predicted_labels = (predictions > 0.5).astype(int)\n",
        "\n",
        "cm = confusion_matrix(true_labels, predicted_labels)\n",
        "print(\"Confusion Matrix:\")\n",
        "print(cm)\n",
        "\n",
        "print(\"Classification Report:\")\n",
        "print(classification_report(true_labels, predicted_labels))"
      ],
      "metadata": {
        "colab": {
          "base_uri": "https://localhost:8080/"
        },
        "id": "cewgzS96ks5y",
        "outputId": "c3002676-00ac-4225-ee34-3a7b724920ce"
      },
      "execution_count": null,
      "outputs": [
        {
          "output_type": "stream",
          "name": "stdout",
          "text": [
            "Confusion Matrix:\n",
            "[[ 0 10]\n",
            " [ 0  5]]\n",
            "Classification Report:\n",
            "              precision    recall  f1-score   support\n",
            "\n",
            "           0       0.00      0.00      0.00        10\n",
            "           1       0.33      1.00      0.50         5\n",
            "\n",
            "    accuracy                           0.33        15\n",
            "   macro avg       0.17      0.50      0.25        15\n",
            "weighted avg       0.11      0.33      0.17        15\n",
            "\n"
          ]
        },
        {
          "output_type": "stream",
          "name": "stderr",
          "text": [
            "/usr/local/lib/python3.10/dist-packages/sklearn/metrics/_classification.py:1344: UndefinedMetricWarning: Precision and F-score are ill-defined and being set to 0.0 in labels with no predicted samples. Use `zero_division` parameter to control this behavior.\n",
            "  _warn_prf(average, modifier, msg_start, len(result))\n",
            "/usr/local/lib/python3.10/dist-packages/sklearn/metrics/_classification.py:1344: UndefinedMetricWarning: Precision and F-score are ill-defined and being set to 0.0 in labels with no predicted samples. Use `zero_division` parameter to control this behavior.\n",
            "  _warn_prf(average, modifier, msg_start, len(result))\n",
            "/usr/local/lib/python3.10/dist-packages/sklearn/metrics/_classification.py:1344: UndefinedMetricWarning: Precision and F-score are ill-defined and being set to 0.0 in labels with no predicted samples. Use `zero_division` parameter to control this behavior.\n",
            "  _warn_prf(average, modifier, msg_start, len(result))\n"
          ]
        }
      ]
    }
  ]
}